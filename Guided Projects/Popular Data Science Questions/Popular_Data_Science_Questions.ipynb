{
 "cells": [
  {
   "cell_type": "code",
   "execution_count": 1,
   "metadata": {},
   "outputs": [],
   "source": [
    "import pandas as pd\n",
    "import numpy as np\n",
    "import datetime as dt\n",
    "import matplotlib.pyplot as plt\n",
    "%matplotlib inline\n",
    "import seaborn as sns\n",
    "import operator\n",
    "from functools import reduce"
   ]
  },
  {
   "cell_type": "code",
   "execution_count": 2,
   "metadata": {},
   "outputs": [
    {
     "name": "stdout",
     "output_type": "stream",
     "text": [
      "C:\\Users\\bdhut\\Desktop\\Python Scripts\n"
     ]
    }
   ],
   "source": [
    "cd C:\\Users\\bdhut\\Desktop\\Python Scripts"
   ]
  },
  {
   "cell_type": "code",
   "execution_count": 3,
   "metadata": {
    "scrolled": true
   },
   "outputs": [
    {
     "data": {
      "text/plain": [
       "'C:\\\\Users\\\\bdhut\\\\Desktop\\\\Python Scripts'"
      ]
     },
     "execution_count": 3,
     "metadata": {},
     "output_type": "execute_result"
    }
   ],
   "source": [
    "pwd"
   ]
  },
  {
   "cell_type": "markdown",
   "metadata": {},
   "source": [
    "The above code doesn't seem to change where the file is saved. "
   ]
  },
  {
   "cell_type": "markdown",
   "metadata": {},
   "source": [
    "Stack Overflow is designed to answer questions based on programming. Users are encouraged to search for questions before asking them to avoid repeats. "
   ]
  },
  {
   "cell_type": "markdown",
   "metadata": {},
   "source": [
    "https://data.stackexchange.com/datascience/query/edit/1410799\n",
    "\n",
    "This link provides SQL-like querying of posts, flags, tags, and other data available through StackExchange website. Specifically to the Data Science section. "
   ]
  },
  {
   "cell_type": "code",
   "execution_count": 4,
   "metadata": {
    "scrolled": true
   },
   "outputs": [],
   "source": [
    "df = pd.read_csv('Stackexquery.csv')"
   ]
  },
  {
   "cell_type": "code",
   "execution_count": 5,
   "metadata": {},
   "outputs": [
    {
     "data": {
      "text/html": [
       "<div>\n",
       "<style scoped>\n",
       "    .dataframe tbody tr th:only-of-type {\n",
       "        vertical-align: middle;\n",
       "    }\n",
       "\n",
       "    .dataframe tbody tr th {\n",
       "        vertical-align: top;\n",
       "    }\n",
       "\n",
       "    .dataframe thead th {\n",
       "        text-align: right;\n",
       "    }\n",
       "</style>\n",
       "<table border=\"1\" class=\"dataframe\">\n",
       "  <thead>\n",
       "    <tr style=\"text-align: right;\">\n",
       "      <th></th>\n",
       "      <th>Id</th>\n",
       "      <th>PostTypeId</th>\n",
       "      <th>CreationDate</th>\n",
       "      <th>Score</th>\n",
       "      <th>ViewCount</th>\n",
       "      <th>Tags</th>\n",
       "      <th>AnswerCount</th>\n",
       "      <th>FavoriteCount</th>\n",
       "    </tr>\n",
       "  </thead>\n",
       "  <tbody>\n",
       "    <tr>\n",
       "      <th>0</th>\n",
       "      <td>65650</td>\n",
       "      <td>2</td>\n",
       "      <td>2019-12-30 23:35:48</td>\n",
       "      <td>0</td>\n",
       "      <td>NaN</td>\n",
       "      <td>NaN</td>\n",
       "      <td>NaN</td>\n",
       "      <td>NaN</td>\n",
       "    </tr>\n",
       "    <tr>\n",
       "      <th>1</th>\n",
       "      <td>65649</td>\n",
       "      <td>1</td>\n",
       "      <td>2019-12-30 22:37:09</td>\n",
       "      <td>3</td>\n",
       "      <td>91.0</td>\n",
       "      <td>&lt;python&gt;&lt;neural-network&gt;&lt;keras&gt;&lt;loss-function&gt;...</td>\n",
       "      <td>0.0</td>\n",
       "      <td>NaN</td>\n",
       "    </tr>\n",
       "    <tr>\n",
       "      <th>2</th>\n",
       "      <td>65648</td>\n",
       "      <td>1</td>\n",
       "      <td>2019-12-30 22:10:01</td>\n",
       "      <td>2</td>\n",
       "      <td>118.0</td>\n",
       "      <td>&lt;python&gt;&lt;deep-learning&gt;&lt;keras&gt;&lt;reinforcement-l...</td>\n",
       "      <td>2.0</td>\n",
       "      <td>2.0</td>\n",
       "    </tr>\n",
       "    <tr>\n",
       "      <th>3</th>\n",
       "      <td>65647</td>\n",
       "      <td>2</td>\n",
       "      <td>2019-12-30 22:06:00</td>\n",
       "      <td>0</td>\n",
       "      <td>NaN</td>\n",
       "      <td>NaN</td>\n",
       "      <td>NaN</td>\n",
       "      <td>NaN</td>\n",
       "    </tr>\n",
       "    <tr>\n",
       "      <th>4</th>\n",
       "      <td>65646</td>\n",
       "      <td>2</td>\n",
       "      <td>2019-12-30 20:43:55</td>\n",
       "      <td>0</td>\n",
       "      <td>NaN</td>\n",
       "      <td>NaN</td>\n",
       "      <td>NaN</td>\n",
       "      <td>NaN</td>\n",
       "    </tr>\n",
       "  </tbody>\n",
       "</table>\n",
       "</div>"
      ],
      "text/plain": [
       "      Id  PostTypeId         CreationDate  Score  ViewCount  \\\n",
       "0  65650           2  2019-12-30 23:35:48      0        NaN   \n",
       "1  65649           1  2019-12-30 22:37:09      3       91.0   \n",
       "2  65648           1  2019-12-30 22:10:01      2      118.0   \n",
       "3  65647           2  2019-12-30 22:06:00      0        NaN   \n",
       "4  65646           2  2019-12-30 20:43:55      0        NaN   \n",
       "\n",
       "                                                Tags  AnswerCount  \\\n",
       "0                                                NaN          NaN   \n",
       "1  <python><neural-network><keras><loss-function>...          0.0   \n",
       "2  <python><deep-learning><keras><reinforcement-l...          2.0   \n",
       "3                                                NaN          NaN   \n",
       "4                                                NaN          NaN   \n",
       "\n",
       "   FavoriteCount  \n",
       "0            NaN  \n",
       "1            NaN  \n",
       "2            2.0  \n",
       "3            NaN  \n",
       "4            NaN  "
      ]
     },
     "execution_count": 5,
     "metadata": {},
     "output_type": "execute_result"
    }
   ],
   "source": [
    "df.head()"
   ]
  },
  {
   "cell_type": "code",
   "execution_count": 6,
   "metadata": {},
   "outputs": [
    {
     "data": {
      "text/plain": [
       "Id                   0\n",
       "PostTypeId           0\n",
       "CreationDate         0\n",
       "Score                0\n",
       "ViewCount         7890\n",
       "Tags              7890\n",
       "AnswerCount       7890\n",
       "FavoriteCount    13015\n",
       "dtype: int64"
      ]
     },
     "execution_count": 6,
     "metadata": {},
     "output_type": "execute_result"
    }
   ],
   "source": [
    "df[['Id','PostTypeId','CreationDate','Score','ViewCount','Tags','AnswerCount','FavoriteCount']].isnull().sum()"
   ]
  },
  {
   "cell_type": "markdown",
   "metadata": {},
   "source": [
    "ViewCount, Tags, and AnswerCount all have 7890 null values."
   ]
  },
  {
   "cell_type": "code",
   "execution_count": 7,
   "metadata": {},
   "outputs": [
    {
     "data": {
      "text/plain": [
       "Id                 int64\n",
       "PostTypeId         int64\n",
       "CreationDate      object\n",
       "Score              int64\n",
       "ViewCount        float64\n",
       "Tags              object\n",
       "AnswerCount      float64\n",
       "FavoriteCount    float64\n",
       "dtype: object"
      ]
     },
     "execution_count": 7,
     "metadata": {},
     "output_type": "execute_result"
    }
   ],
   "source": [
    "df.dtypes"
   ]
  },
  {
   "cell_type": "code",
   "execution_count": 8,
   "metadata": {},
   "outputs": [],
   "source": [
    "df = df.fillna(0)"
   ]
  },
  {
   "cell_type": "code",
   "execution_count": 9,
   "metadata": {},
   "outputs": [
    {
     "data": {
      "text/html": [
       "<div>\n",
       "<style scoped>\n",
       "    .dataframe tbody tr th:only-of-type {\n",
       "        vertical-align: middle;\n",
       "    }\n",
       "\n",
       "    .dataframe tbody tr th {\n",
       "        vertical-align: top;\n",
       "    }\n",
       "\n",
       "    .dataframe thead th {\n",
       "        text-align: right;\n",
       "    }\n",
       "</style>\n",
       "<table border=\"1\" class=\"dataframe\">\n",
       "  <thead>\n",
       "    <tr style=\"text-align: right;\">\n",
       "      <th></th>\n",
       "      <th>Id</th>\n",
       "      <th>PostTypeId</th>\n",
       "      <th>CreationDate</th>\n",
       "      <th>Score</th>\n",
       "      <th>ViewCount</th>\n",
       "      <th>Tags</th>\n",
       "      <th>AnswerCount</th>\n",
       "      <th>FavoriteCount</th>\n",
       "    </tr>\n",
       "  </thead>\n",
       "  <tbody>\n",
       "    <tr>\n",
       "      <th>0</th>\n",
       "      <td>65650</td>\n",
       "      <td>2</td>\n",
       "      <td>2019-12-30 23:35:48</td>\n",
       "      <td>0</td>\n",
       "      <td>0.0</td>\n",
       "      <td>0</td>\n",
       "      <td>0.0</td>\n",
       "      <td>0.0</td>\n",
       "    </tr>\n",
       "    <tr>\n",
       "      <th>1</th>\n",
       "      <td>65649</td>\n",
       "      <td>1</td>\n",
       "      <td>2019-12-30 22:37:09</td>\n",
       "      <td>3</td>\n",
       "      <td>91.0</td>\n",
       "      <td>&lt;python&gt;&lt;neural-network&gt;&lt;keras&gt;&lt;loss-function&gt;...</td>\n",
       "      <td>0.0</td>\n",
       "      <td>0.0</td>\n",
       "    </tr>\n",
       "    <tr>\n",
       "      <th>2</th>\n",
       "      <td>65648</td>\n",
       "      <td>1</td>\n",
       "      <td>2019-12-30 22:10:01</td>\n",
       "      <td>2</td>\n",
       "      <td>118.0</td>\n",
       "      <td>&lt;python&gt;&lt;deep-learning&gt;&lt;keras&gt;&lt;reinforcement-l...</td>\n",
       "      <td>2.0</td>\n",
       "      <td>2.0</td>\n",
       "    </tr>\n",
       "    <tr>\n",
       "      <th>3</th>\n",
       "      <td>65647</td>\n",
       "      <td>2</td>\n",
       "      <td>2019-12-30 22:06:00</td>\n",
       "      <td>0</td>\n",
       "      <td>0.0</td>\n",
       "      <td>0</td>\n",
       "      <td>0.0</td>\n",
       "      <td>0.0</td>\n",
       "    </tr>\n",
       "    <tr>\n",
       "      <th>4</th>\n",
       "      <td>65646</td>\n",
       "      <td>2</td>\n",
       "      <td>2019-12-30 20:43:55</td>\n",
       "      <td>0</td>\n",
       "      <td>0.0</td>\n",
       "      <td>0</td>\n",
       "      <td>0.0</td>\n",
       "      <td>0.0</td>\n",
       "    </tr>\n",
       "  </tbody>\n",
       "</table>\n",
       "</div>"
      ],
      "text/plain": [
       "      Id  PostTypeId         CreationDate  Score  ViewCount  \\\n",
       "0  65650           2  2019-12-30 23:35:48      0        0.0   \n",
       "1  65649           1  2019-12-30 22:37:09      3       91.0   \n",
       "2  65648           1  2019-12-30 22:10:01      2      118.0   \n",
       "3  65647           2  2019-12-30 22:06:00      0        0.0   \n",
       "4  65646           2  2019-12-30 20:43:55      0        0.0   \n",
       "\n",
       "                                                Tags  AnswerCount  \\\n",
       "0                                                  0          0.0   \n",
       "1  <python><neural-network><keras><loss-function>...          0.0   \n",
       "2  <python><deep-learning><keras><reinforcement-l...          2.0   \n",
       "3                                                  0          0.0   \n",
       "4                                                  0          0.0   \n",
       "\n",
       "   FavoriteCount  \n",
       "0            0.0  \n",
       "1            0.0  \n",
       "2            2.0  \n",
       "3            0.0  \n",
       "4            0.0  "
      ]
     },
     "execution_count": 9,
     "metadata": {},
     "output_type": "execute_result"
    }
   ],
   "source": [
    "df.head()"
   ]
  },
  {
   "cell_type": "code",
   "execution_count": 10,
   "metadata": {},
   "outputs": [],
   "source": [
    "df['CreationDate'] = pd.to_datetime(df['CreationDate'])"
   ]
  },
  {
   "cell_type": "code",
   "execution_count": 11,
   "metadata": {},
   "outputs": [
    {
     "data": {
      "text/plain": [
       "Id                        int64\n",
       "PostTypeId                int64\n",
       "CreationDate     datetime64[ns]\n",
       "Score                     int64\n",
       "ViewCount               float64\n",
       "Tags                     object\n",
       "AnswerCount             float64\n",
       "FavoriteCount           float64\n",
       "dtype: object"
      ]
     },
     "execution_count": 11,
     "metadata": {},
     "output_type": "execute_result"
    }
   ],
   "source": [
    "df.dtypes"
   ]
  },
  {
   "cell_type": "code",
   "execution_count": 12,
   "metadata": {},
   "outputs": [],
   "source": [
    "df['Tags']=df['Tags'].str.replace('><',',')"
   ]
  },
  {
   "cell_type": "code",
   "execution_count": 13,
   "metadata": {},
   "outputs": [],
   "source": [
    "df['Tags']=df['Tags'].str.replace('>','')"
   ]
  },
  {
   "cell_type": "code",
   "execution_count": 14,
   "metadata": {},
   "outputs": [],
   "source": [
    "df['Tags']=df['Tags'].str.replace('<','')"
   ]
  },
  {
   "cell_type": "code",
   "execution_count": 15,
   "metadata": {},
   "outputs": [],
   "source": [
    "df['Tags']=df['Tags'].str.split(',')"
   ]
  },
  {
   "cell_type": "markdown",
   "metadata": {},
   "source": [
    "I think I could've combined a few of lthose lines ex .str.replace(...).str.replace(...)"
   ]
  },
  {
   "cell_type": "code",
   "execution_count": 16,
   "metadata": {
    "scrolled": true
   },
   "outputs": [
    {
     "data": {
      "text/html": [
       "<div>\n",
       "<style scoped>\n",
       "    .dataframe tbody tr th:only-of-type {\n",
       "        vertical-align: middle;\n",
       "    }\n",
       "\n",
       "    .dataframe tbody tr th {\n",
       "        vertical-align: top;\n",
       "    }\n",
       "\n",
       "    .dataframe thead th {\n",
       "        text-align: right;\n",
       "    }\n",
       "</style>\n",
       "<table border=\"1\" class=\"dataframe\">\n",
       "  <thead>\n",
       "    <tr style=\"text-align: right;\">\n",
       "      <th></th>\n",
       "      <th>Id</th>\n",
       "      <th>PostTypeId</th>\n",
       "      <th>CreationDate</th>\n",
       "      <th>Score</th>\n",
       "      <th>ViewCount</th>\n",
       "      <th>Tags</th>\n",
       "      <th>AnswerCount</th>\n",
       "      <th>FavoriteCount</th>\n",
       "    </tr>\n",
       "  </thead>\n",
       "  <tbody>\n",
       "    <tr>\n",
       "      <th>0</th>\n",
       "      <td>65650</td>\n",
       "      <td>2</td>\n",
       "      <td>2019-12-30 23:35:48</td>\n",
       "      <td>0</td>\n",
       "      <td>0.0</td>\n",
       "      <td>NaN</td>\n",
       "      <td>0.0</td>\n",
       "      <td>0.0</td>\n",
       "    </tr>\n",
       "    <tr>\n",
       "      <th>1</th>\n",
       "      <td>65649</td>\n",
       "      <td>1</td>\n",
       "      <td>2019-12-30 22:37:09</td>\n",
       "      <td>3</td>\n",
       "      <td>91.0</td>\n",
       "      <td>[python, neural-network, keras, loss-function,...</td>\n",
       "      <td>0.0</td>\n",
       "      <td>0.0</td>\n",
       "    </tr>\n",
       "    <tr>\n",
       "      <th>2</th>\n",
       "      <td>65648</td>\n",
       "      <td>1</td>\n",
       "      <td>2019-12-30 22:10:01</td>\n",
       "      <td>2</td>\n",
       "      <td>118.0</td>\n",
       "      <td>[python, deep-learning, keras, reinforcement-l...</td>\n",
       "      <td>2.0</td>\n",
       "      <td>2.0</td>\n",
       "    </tr>\n",
       "    <tr>\n",
       "      <th>3</th>\n",
       "      <td>65647</td>\n",
       "      <td>2</td>\n",
       "      <td>2019-12-30 22:06:00</td>\n",
       "      <td>0</td>\n",
       "      <td>0.0</td>\n",
       "      <td>NaN</td>\n",
       "      <td>0.0</td>\n",
       "      <td>0.0</td>\n",
       "    </tr>\n",
       "    <tr>\n",
       "      <th>4</th>\n",
       "      <td>65646</td>\n",
       "      <td>2</td>\n",
       "      <td>2019-12-30 20:43:55</td>\n",
       "      <td>0</td>\n",
       "      <td>0.0</td>\n",
       "      <td>NaN</td>\n",
       "      <td>0.0</td>\n",
       "      <td>0.0</td>\n",
       "    </tr>\n",
       "  </tbody>\n",
       "</table>\n",
       "</div>"
      ],
      "text/plain": [
       "      Id  PostTypeId        CreationDate  Score  ViewCount  \\\n",
       "0  65650           2 2019-12-30 23:35:48      0        0.0   \n",
       "1  65649           1 2019-12-30 22:37:09      3       91.0   \n",
       "2  65648           1 2019-12-30 22:10:01      2      118.0   \n",
       "3  65647           2 2019-12-30 22:06:00      0        0.0   \n",
       "4  65646           2 2019-12-30 20:43:55      0        0.0   \n",
       "\n",
       "                                                Tags  AnswerCount  \\\n",
       "0                                                NaN          0.0   \n",
       "1  [python, neural-network, keras, loss-function,...          0.0   \n",
       "2  [python, deep-learning, keras, reinforcement-l...          2.0   \n",
       "3                                                NaN          0.0   \n",
       "4                                                NaN          0.0   \n",
       "\n",
       "   FavoriteCount  \n",
       "0            0.0  \n",
       "1            0.0  \n",
       "2            2.0  \n",
       "3            0.0  \n",
       "4            0.0  "
      ]
     },
     "execution_count": 16,
     "metadata": {},
     "output_type": "execute_result"
    }
   ],
   "source": [
    "df.head()"
   ]
  },
  {
   "cell_type": "code",
   "execution_count": 17,
   "metadata": {},
   "outputs": [
    {
     "data": {
      "text/plain": [
       "Id                        int64\n",
       "PostTypeId                int64\n",
       "CreationDate     datetime64[ns]\n",
       "Score                     int64\n",
       "ViewCount               float64\n",
       "Tags                     object\n",
       "AnswerCount             float64\n",
       "FavoriteCount           float64\n",
       "dtype: object"
      ]
     },
     "execution_count": 17,
     "metadata": {},
     "output_type": "execute_result"
    }
   ],
   "source": [
    "df.dtypes"
   ]
  },
  {
   "cell_type": "code",
   "execution_count": 18,
   "metadata": {},
   "outputs": [],
   "source": [
    "test = df['Tags']"
   ]
  },
  {
   "cell_type": "code",
   "execution_count": 19,
   "metadata": {},
   "outputs": [
    {
     "data": {
      "text/plain": [
       "'rnn'"
      ]
     },
     "execution_count": 19,
     "metadata": {},
     "output_type": "execute_result"
    }
   ],
   "source": [
    "test[8][2]"
   ]
  },
  {
   "cell_type": "code",
   "execution_count": 22,
   "metadata": {},
   "outputs": [],
   "source": [
    "tags_used_dict2 ={}\n",
    "for tag in test[8]:\n",
    "    if not tag in tags_used_dict2:\n",
    "        tags_used_dict2[tag]=0\n",
    "    tags_used_dict2[tag]+=1"
   ]
  },
  {
   "cell_type": "code",
   "execution_count": 23,
   "metadata": {},
   "outputs": [
    {
     "data": {
      "text/plain": [
       "{'machine-learning': 1,\n",
       " 'regression': 1,\n",
       " 'rnn': 1,\n",
       " 'model-selection': 1,\n",
       " 'k-nn': 1}"
      ]
     },
     "execution_count": 23,
     "metadata": {},
     "output_type": "execute_result"
    }
   ],
   "source": [
    "tags_used_dict2"
   ]
  },
  {
   "cell_type": "code",
   "execution_count": null,
   "metadata": {},
   "outputs": [],
   "source": [
    "# Creating a dictionary for all the tags\n",
    "tags_used_dict = {}\n",
    "for lst in df['Tags']:\n",
    "    for tag in lst:\n",
    "        if not tag in tags_used_dict:\n",
    "            tags_used_dict[tag] = 0\n",
    "        tags_used_dict[tag] += 1   \n",
    "        \n",
    "# Defining a function for creating a dataframe from a dictionary, \n",
    "# sorted in descending order\n",
    "def create_sorted_df_from_dict(dictionary, new_df_column_name):\n",
    "    \n",
    "    # Creating a dataframe from the dictionary\n",
    "    tags2 = pd.DataFrame.from_dict(dictionary, orient='index').reset_index() \n",
    "\n",
    "    # Renaming columns\n",
    "    tags2.columns = ['Tag', new_df_column_name]\n",
    "\n",
    "    # Sorting in descending order\n",
    "    tags2 = tags2.sort_values(new_df_column_name, ascending=False).reset_index(drop=True)\n",
    "    return tags2, tags2.head(10)\n",
    "\n",
    "# Creating 2 dataframes: tags with the corresponding counts and the TOP10 used tags\n",
    "tags_used, top10_used = create_sorted_df_from_dict(\n",
    "                                                   dictionary=tags_used_dict,\n",
    "                                                   new_df_column_name='Count'\n",
    "                                                   )  \n",
    "\n",
    "top10_used"
   ]
  },
  {
   "cell_type": "code",
   "execution_count": null,
   "metadata": {},
   "outputs": [],
   "source": []
  }
 ],
 "metadata": {
  "kernelspec": {
   "display_name": "Python 3",
   "language": "python",
   "name": "python3"
  },
  "language_info": {
   "codemirror_mode": {
    "name": "ipython",
    "version": 3
   },
   "file_extension": ".py",
   "mimetype": "text/x-python",
   "name": "python",
   "nbconvert_exporter": "python",
   "pygments_lexer": "ipython3",
   "version": "3.8.5"
  }
 },
 "nbformat": 4,
 "nbformat_minor": 4
}
